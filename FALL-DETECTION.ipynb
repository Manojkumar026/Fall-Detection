{
 "cells": [
  {
   "cell_type": "code",
   "execution_count": 1,
   "metadata": {},
   "outputs": [],
   "source": [
    "import numpy as np\n",
    "import pandas as pd \n",
    "import matplotlib.pyplot as plt\n",
    "import seaborn as sns"
   ]
  },
  {
   "cell_type": "code",
   "execution_count": 2,
   "metadata": {},
   "outputs": [],
   "source": [
    "from sklearn.model_selection import train_test_split\n",
    "from sklearn.preprocessing import StandardScaler\n",
    "from sklearn.preprocessing import MinMaxScaler \n",
    "from sklearn.linear_model import LogisticRegression\n",
    "from sklearn.tree import DecisionTreeClassifier\n",
    "from sklearn.neighbors import KNeighborsClassifier\n",
    "from sklearn.svm import SVC\n",
    "from sklearn.metrics import confusion_matrix, accuracy_score, classification_report "
   ]
  },
  {
   "cell_type": "code",
   "execution_count": 3,
   "metadata": {},
   "outputs": [],
   "source": [
    "import os\n",
    "for dirname, _, filenames in os.walk('/kaggle/input'):\n",
    "    for filename in filenames:\n",
    "        print(os.path.join(dirname, filename))\n",
    "\n",
    "import warnings\n",
    "warnings.filterwarnings('ignore')"
   ]
  },
  {
   "cell_type": "code",
   "execution_count": 5,
   "metadata": {},
   "outputs": [
    {
     "name": "stdout",
     "output_type": "stream",
     "text": [
      "   ACTIVITY      TIME         SL      EEG  BP   HR  CIRCLUATION\n",
      "0         3   4722.92    4019.64 -1600.00  13   79          317\n",
      "1         2   4059.12    2191.03 -1146.08  20   54          165\n",
      "2         2   4773.56    2787.99 -1263.38  46   67          224\n",
      "3         4   8271.27    9545.98 -2848.93  26  138          554\n",
      "4         4   7102.16   14148.80 -2381.15  85  120          809\n",
      "5         5   7015.24    7336.79 -1699.80  22   95          427\n",
      "6         3   8620.28   24949.90 -3198.06  35  157         1519\n",
      "7         3   9238.73   39245.50 -2590.00  15  196         1885\n",
      "8         0  12276.40   59742.00 -5101.00  56  249         2826\n",
      "9         4  14165.50  140950.00 -1410.00  82  315         5844\n"
     ]
    }
   ],
   "source": [
    "df = pd.read_csv(r\"C:\\Users\\Manoj\\Desktop\\DATASETS-FOG/falldeteciton.csv\", sep=\",\")\n",
    "print(df.head(10))"
   ]
  },
  {
   "cell_type": "code",
   "execution_count": 6,
   "metadata": {},
   "outputs": [
    {
     "name": "stdout",
     "output_type": "stream",
     "text": [
      "(16382, 7)\n"
     ]
    }
   ],
   "source": [
    "print(df.shape)\n"
   ]
  },
  {
   "cell_type": "code",
   "execution_count": 7,
   "metadata": {},
   "outputs": [
    {
     "name": "stdout",
     "output_type": "stream",
     "text": [
      "<class 'pandas.core.frame.DataFrame'>\n",
      "RangeIndex: 16382 entries, 0 to 16381\n",
      "Data columns (total 7 columns):\n",
      "ACTIVITY       16382 non-null int64\n",
      "TIME           16382 non-null float64\n",
      "SL             16382 non-null float64\n",
      "EEG            16382 non-null float64\n",
      "BP             16382 non-null int64\n",
      "HR             16382 non-null int64\n",
      "CIRCLUATION    16382 non-null int64\n",
      "dtypes: float64(3), int64(4)\n",
      "memory usage: 896.0 KB\n"
     ]
    }
   ],
   "source": [
    "df.info()\n"
   ]
  },
  {
   "cell_type": "code",
   "execution_count": 8,
   "metadata": {},
   "outputs": [
    {
     "data": {
      "text/html": [
       "<div>\n",
       "<style scoped>\n",
       "    .dataframe tbody tr th:only-of-type {\n",
       "        vertical-align: middle;\n",
       "    }\n",
       "\n",
       "    .dataframe tbody tr th {\n",
       "        vertical-align: top;\n",
       "    }\n",
       "\n",
       "    .dataframe thead th {\n",
       "        text-align: right;\n",
       "    }\n",
       "</style>\n",
       "<table border=\"1\" class=\"dataframe\">\n",
       "  <thead>\n",
       "    <tr style=\"text-align: right;\">\n",
       "      <th></th>\n",
       "      <th>TIME</th>\n",
       "      <th>SL</th>\n",
       "      <th>EEG</th>\n",
       "      <th>BP</th>\n",
       "      <th>HR</th>\n",
       "      <th>CIRCLUATION</th>\n",
       "    </tr>\n",
       "  </thead>\n",
       "  <tbody>\n",
       "    <tr>\n",
       "      <td>count</td>\n",
       "      <td>16382.000000</td>\n",
       "      <td>1.638200e+04</td>\n",
       "      <td>1.638200e+04</td>\n",
       "      <td>16382.000000</td>\n",
       "      <td>16382.000000</td>\n",
       "      <td>16382.000000</td>\n",
       "    </tr>\n",
       "    <tr>\n",
       "      <td>mean</td>\n",
       "      <td>10936.842478</td>\n",
       "      <td>7.527198e+04</td>\n",
       "      <td>-5.621125e+03</td>\n",
       "      <td>58.251068</td>\n",
       "      <td>211.536992</td>\n",
       "      <td>2894.341472</td>\n",
       "    </tr>\n",
       "    <tr>\n",
       "      <td>std</td>\n",
       "      <td>5261.463601</td>\n",
       "      <td>1.275022e+05</td>\n",
       "      <td>1.082209e+05</td>\n",
       "      <td>48.292926</td>\n",
       "      <td>129.949521</td>\n",
       "      <td>3825.927830</td>\n",
       "    </tr>\n",
       "    <tr>\n",
       "      <td>min</td>\n",
       "      <td>1954.230000</td>\n",
       "      <td>4.222420e+01</td>\n",
       "      <td>-1.262600e+07</td>\n",
       "      <td>0.000000</td>\n",
       "      <td>33.000000</td>\n",
       "      <td>5.000000</td>\n",
       "    </tr>\n",
       "    <tr>\n",
       "      <td>25%</td>\n",
       "      <td>7263.685000</td>\n",
       "      <td>9.941170e+03</td>\n",
       "      <td>-5.630000e+03</td>\n",
       "      <td>25.000000</td>\n",
       "      <td>119.000000</td>\n",
       "      <td>587.000000</td>\n",
       "    </tr>\n",
       "    <tr>\n",
       "      <td>50%</td>\n",
       "      <td>9769.355000</td>\n",
       "      <td>3.118920e+04</td>\n",
       "      <td>-3.361275e+03</td>\n",
       "      <td>44.000000</td>\n",
       "      <td>180.000000</td>\n",
       "      <td>1581.000000</td>\n",
       "    </tr>\n",
       "    <tr>\n",
       "      <td>75%</td>\n",
       "      <td>13481.650000</td>\n",
       "      <td>8.076145e+04</td>\n",
       "      <td>-2.150000e+03</td>\n",
       "      <td>78.000000</td>\n",
       "      <td>271.000000</td>\n",
       "      <td>3539.000000</td>\n",
       "    </tr>\n",
       "    <tr>\n",
       "      <td>max</td>\n",
       "      <td>50895.500000</td>\n",
       "      <td>2.426140e+06</td>\n",
       "      <td>1.410000e+06</td>\n",
       "      <td>533.000000</td>\n",
       "      <td>986.000000</td>\n",
       "      <td>52210.000000</td>\n",
       "    </tr>\n",
       "  </tbody>\n",
       "</table>\n",
       "</div>"
      ],
      "text/plain": [
       "               TIME            SL           EEG            BP            HR  \\\n",
       "count  16382.000000  1.638200e+04  1.638200e+04  16382.000000  16382.000000   \n",
       "mean   10936.842478  7.527198e+04 -5.621125e+03     58.251068    211.536992   \n",
       "std     5261.463601  1.275022e+05  1.082209e+05     48.292926    129.949521   \n",
       "min     1954.230000  4.222420e+01 -1.262600e+07      0.000000     33.000000   \n",
       "25%     7263.685000  9.941170e+03 -5.630000e+03     25.000000    119.000000   \n",
       "50%     9769.355000  3.118920e+04 -3.361275e+03     44.000000    180.000000   \n",
       "75%    13481.650000  8.076145e+04 -2.150000e+03     78.000000    271.000000   \n",
       "max    50895.500000  2.426140e+06  1.410000e+06    533.000000    986.000000   \n",
       "\n",
       "        CIRCLUATION  \n",
       "count  16382.000000  \n",
       "mean    2894.341472  \n",
       "std     3825.927830  \n",
       "min        5.000000  \n",
       "25%      587.000000  \n",
       "50%     1581.000000  \n",
       "75%     3539.000000  \n",
       "max    52210.000000  "
      ]
     },
     "execution_count": 8,
     "metadata": {},
     "output_type": "execute_result"
    }
   ],
   "source": [
    "df.iloc[:,1:7].describe()\n"
   ]
  },
  {
   "cell_type": "code",
   "execution_count": 9,
   "metadata": {},
   "outputs": [
    {
     "name": "stdout",
     "output_type": "stream",
     "text": [
      "0    4608\n",
      "1     502\n",
      "2    2502\n",
      "3    3588\n",
      "4    3494\n",
      "5    1688\n",
      "Name: ACTIVITY, dtype: int64\n"
     ]
    }
   ],
   "source": [
    "d = df[\"ACTIVITY\"].value_counts().sort_index()\n",
    "print(d)"
   ]
  },
  {
   "cell_type": "code",
   "execution_count": 10,
   "metadata": {},
   "outputs": [
    {
     "data": {
      "image/png": "[encoded data removed]",
      "text/plain": [
       "<Figure size 432x288 with 1 Axes>"
      ]
     },
     "metadata": {},
     "output_type": "display_data"
    }
   ],
   "source": [
    "dict = {0:'Standing', 1:'Walking', 2:'Sitting', 3:'Falling', 4:'Cramps', 5:'Running'}\n",
    "resp = list(dict.keys())\n",
    "labels = list(dict.values())\n",
    "sizes = [d[0], d[1], d[2], d[3], d[4], d[5]]\n",
    "explode = (0, 0, 0, 0.1, 0, 0)  # only \"explode\" the 2nd slice (i.e. 'Hogs')\n",
    "\n",
    "fig1, ax1 = plt.subplots()\n",
    "ax1.pie(sizes, labels=labels, explode = explode, autopct='%1.1f%%', startangle = 90, counterclock=False, shadow=False)\n",
    "ax1.axis('equal')\n",
    "plt.show()"
   ]
  },
  {
   "cell_type": "code",
   "execution_count": 11,
   "metadata": {},
   "outputs": [
    {
     "data": {
      "image/png": "[encoded data removed]",
      "text/plain": [
       "<Figure size 432x288 with 1 Axes>"
      ]
     },
     "metadata": {},
     "output_type": "display_data"
    }
   ],
   "source": [
    "sns.set(style=\"darkgrid\")\n",
    "ax = sns.countplot(y='ACTIVITY', data=df)\n",
    "ax.set_yticklabels(labels);"
   ]
  },
  {
   "cell_type": "code",
   "execution_count": 12,
   "metadata": {},
   "outputs": [
    {
     "name": "stdout",
     "output_type": "stream",
     "text": [
      "          BP  CIRCLUATION      EEG     HR        SL       TIME\n",
      "ACTIVITY                                                      \n",
      "0         50         2321 -5280.00  224.5  51477.50  11316.500\n",
      "1         21          343 -1435.00   85.0   4770.05   5725.915\n",
      "2         42          587 -2200.00  128.0   9759.73   7569.470\n",
      "3         42         1922 -3110.00  196.0  39215.35  10124.150\n",
      "4         47         1415 -3069.75  174.0  27563.65   9577.390\n",
      "5         46         1747 -3254.80  179.0  30372.85   9472.360\n"
     ]
    }
   ],
   "source": [
    "colum_names = ['TIME','SL','EEG','BP','HR','CIRCLUATION']\n",
    "df_pivot_table = df.pivot_table(colum_names,\n",
    "               ['ACTIVITY'], aggfunc='median')\n",
    "print(df_pivot_table)"
   ]
  },
  {
   "cell_type": "code",
   "execution_count": 13,
   "metadata": {
    "scrolled": true
   },
   "outputs": [
    {
     "name": "stdout",
     "output_type": "stream",
     "text": [
      "                 TIME        SL       EEG        BP        HR  CIRCLUATION\n",
      "TIME         1.000000  0.843200 -0.048278  0.442334  0.973901     0.876956\n",
      "SL           0.843200  1.000000 -0.050946  0.401064  0.859408     0.978060\n",
      "EEG         -0.048278 -0.050946  1.000000 -0.049892 -0.050316    -0.050408\n",
      "BP           0.442334  0.401064 -0.049892  1.000000  0.469164     0.419356\n",
      "HR           0.973901  0.859408 -0.050316  0.469164  1.000000     0.904160\n",
      "CIRCLUATION  0.876956  0.978060 -0.050408  0.419356  0.904160     1.000000\n"
     ]
    },
    {
     "data": {
      "image/png": "[encoded data removed]",
      "text/plain": [
       "<Figure size 1080x792 with 2 Axes>"
      ]
     },
     "metadata": {},
     "output_type": "display_data"
    }
   ],
   "source": [
    "tmp = df.drop('ACTIVITY', axis=1)\n",
    "correlations = tmp.corr()\n",
    "print(correlations)\n",
    "# Plot figsize\n",
    "fig, ax = plt.subplots(figsize=(15, 11))\n",
    "# Generate Color Map\n",
    "colormap = sns.diverging_palette(220, 10, as_cmap=True)\n",
    "# Generate Heat Map, allow annotations and place floats in map\n",
    "sns.heatmap(correlations, cmap=colormap, annot=True, fmt=\".2f\")\n",
    "ax.set_xticklabels(\n",
    "    colum_names,\n",
    "    rotation=45,\n",
    "    horizontalalignment='right'\n",
    ");\n",
    "ax.set_yticklabels(colum_names);"
   ]
  },
  {
   "cell_type": "code",
   "execution_count": 16,
   "metadata": {},
   "outputs": [
    {
     "data": {
      "text/plain": [
       "(14203, 7)"
      ]
     },
     "execution_count": 16,
     "metadata": {},
     "output_type": "execute_result"
    }
   ],
   "source": [
    "Q1 = df.quantile(0.25)\n",
    "Q3 = df.quantile(0.75)\n",
    "IQR = Q3 - Q1\n",
    "df_out = df[~((df < (Q1 - 1.5 * IQR)) |(df > (Q3 + 1.5 * IQR))).any(axis=1)]\n",
    "df_out.shape\n"
   ]
  },
  {
   "cell_type": "code",
   "execution_count": 17,
   "metadata": {},
   "outputs": [
    {
     "name": "stdout",
     "output_type": "stream",
     "text": [
      "   ACTIVITY      TIME         SL      EEG  BP   HR  CIRCLUATION DECISION\n",
      "0         3   4722.92    4019.64 -1600.00  13   79          317        1\n",
      "1         2   4059.12    2191.03 -1146.08  20   54          165        0\n",
      "2         2   4773.56    2787.99 -1263.38  46   67          224        0\n",
      "3         4   8271.27    9545.98 -2848.93  26  138          554        0\n",
      "4         4   7102.16   14148.80 -2381.15  85  120          809        0\n",
      "5         5   7015.24    7336.79 -1699.80  22   95          427        0\n",
      "6         3   8620.28   24949.90 -3198.06  35  157         1519        1\n",
      "7         3   9238.73   39245.50 -2590.00  15  196         1885        1\n",
      "8         0  12276.40   59742.00 -5101.00  56  249         2826        0\n",
      "9         4  14165.50  140950.00 -1410.00  82  315         5844        0\n"
     ]
    }
   ],
   "source": [
    "decision = []\n",
    "for i in df_out['ACTIVITY']:\n",
    "    if i == 3:\n",
    "        decision.append('1')\n",
    "    else: \n",
    "        decision.append('0')\n",
    "df_out['DECISION'] = decision\n",
    "print(df_out.head(10))"
   ]
  },
  {
   "cell_type": "code",
   "execution_count": 18,
   "metadata": {},
   "outputs": [
    {
     "data": {
      "text/plain": [
       "0    11051\n",
       "1     3152\n",
       "Name: DECISION, dtype: int64"
      ]
     },
     "execution_count": 18,
     "metadata": {},
     "output_type": "execute_result"
    }
   ],
   "source": [
    "df_out['DECISION'].value_counts().sort_index()\n"
   ]
  },
  {
   "cell_type": "code",
   "execution_count": 19,
   "metadata": {},
   "outputs": [
    {
     "name": "stdout",
     "output_type": "stream",
     "text": [
      "(14203, 6)\n",
      "(14203,)\n"
     ]
    }
   ],
   "source": [
    "X = df_out.iloc[:,1:7]\n",
    "y = df_out['DECISION']\n",
    "print(X.shape)\n",
    "print(y.shape)"
   ]
  },
  {
   "cell_type": "code",
   "execution_count": 20,
   "metadata": {},
   "outputs": [
    {
     "name": "stdout",
     "output_type": "stream",
     "text": [
      "       TIME         SL      EEG  BP   HR  CIRCLUATION\n",
      "0   4722.92    4019.64 -1600.00  13   79          317\n",
      "1   4059.12    2191.03 -1146.08  20   54          165\n",
      "2   4773.56    2787.99 -1263.38  46   67          224\n",
      "3   8271.27    9545.98 -2848.93  26  138          554\n",
      "4   7102.16   14148.80 -2381.15  85  120          809\n",
      "5   7015.24    7336.79 -1699.80  22   95          427\n",
      "6   8620.28   24949.90 -3198.06  35  157         1519\n",
      "7   9238.73   39245.50 -2590.00  15  196         1885\n",
      "8  12276.40   59742.00 -5101.00  56  249         2826\n",
      "9  14165.50  140950.00 -1410.00  82  315         5844\n"
     ]
    }
   ],
   "source": [
    "print(X.head(10))\n"
   ]
  },
  {
   "cell_type": "code",
   "execution_count": 21,
   "metadata": {},
   "outputs": [
    {
     "name": "stdout",
     "output_type": "stream",
     "text": [
      "0    1\n",
      "1    0\n",
      "2    0\n",
      "3    0\n",
      "4    0\n",
      "5    0\n",
      "6    1\n",
      "7    1\n",
      "8    0\n",
      "9    0\n",
      "Name: DECISION, dtype: object\n"
     ]
    }
   ],
   "source": [
    "print(y.head(10))\n"
   ]
  },
  {
   "cell_type": "code",
   "execution_count": 22,
   "metadata": {},
   "outputs": [
    {
     "name": "stdout",
     "output_type": "stream",
     "text": [
      "(9942, 6)\n",
      "(9942,)\n",
      "(4261, 6)\n",
      "(4261,)\n"
     ]
    }
   ],
   "source": [
    "X_train, X_test, y_train, y_test = train_test_split(X, y, test_size=0.3, random_state=50)\n",
    "\n",
    "# Apply standard scaling to get optimized result\n",
    "sc = StandardScaler()\n",
    "#sc = MinMaxScaler()\n",
    "X_train = sc.fit_transform(X_train)\n",
    "X_test = sc.fit_transform(X_test)\n",
    "\n",
    "print(X_train.shape)\n",
    "print(y_train.shape)\n",
    "print(X_test.shape)\n",
    "print(y_test.shape)"
   ]
  },
  {
   "cell_type": "code",
   "execution_count": 23,
   "metadata": {},
   "outputs": [
    {
     "name": "stdout",
     "output_type": "stream",
     "text": [
      "[[3294   42]\n",
      " [ 901   24]]\n",
      "Accuracy Score : 0.78\n",
      "Classification Report :\n",
      "              precision    recall  f1-score   support\n",
      "\n",
      "           0       0.79      0.99      0.87      3336\n",
      "           1       0.36      0.03      0.05       925\n",
      "\n",
      "    accuracy                           0.78      4261\n",
      "   macro avg       0.57      0.51      0.46      4261\n",
      "weighted avg       0.69      0.78      0.70      4261\n",
      "\n"
     ]
    }
   ],
   "source": [
    "lr = LogisticRegression()\n",
    "lr.fit(X_train, y_train)\n",
    "lr_predict = lr.predict(X_test)\n",
    "\n",
    "# Print confusion matrix and accuracy score\n",
    "lr_conf_matrix = confusion_matrix(y_test, lr_predict)\n",
    "lr_acc_score = accuracy_score(y_test, lr_predict)\n",
    "lr_class_report = classification_report(y_test, lr_predict) \n",
    "print(lr_conf_matrix)\n",
    "print('Accuracy Score :', '%.2f' %lr_acc_score)\n",
    "print('Classification Report :')\n",
    "print(lr_class_report)"
   ]
  },
  {
   "cell_type": "code",
   "execution_count": 24,
   "metadata": {},
   "outputs": [
    {
     "name": "stdout",
     "output_type": "stream",
     "text": [
      "[[2910  426]\n",
      " [ 608  317]]\n",
      "Accuracy Score : 0.76\n",
      "Classification Report :\n",
      "              precision    recall  f1-score   support\n",
      "\n",
      "           0       0.83      0.87      0.85      3336\n",
      "           1       0.43      0.34      0.38       925\n",
      "\n",
      "    accuracy                           0.76      4261\n",
      "   macro avg       0.63      0.61      0.61      4261\n",
      "weighted avg       0.74      0.76      0.75      4261\n",
      "\n"
     ]
    }
   ],
   "source": [
    "dt = DecisionTreeClassifier()\n",
    "dt.fit(X_train,y_train)\n",
    "dt_predict = dt.predict(X_test)\n",
    "\n",
    "# Print confusion matrix and accuracy score\n",
    "dt_conf_matrix = confusion_matrix(y_test, dt_predict)\n",
    "dt_acc_score = accuracy_score(y_test, dt_predict)\n",
    "dt_class_report = classification_report(y_test, dt_predict) \n",
    "print(dt_conf_matrix)\n",
    "print('Accuracy Score :', '%.2f' %dt_acc_score)\n",
    "print('Classification Report :')\n",
    "print(dt_class_report)"
   ]
  },
  {
   "cell_type": "code",
   "execution_count": 25,
   "metadata": {},
   "outputs": [
    {
     "name": "stdout",
     "output_type": "stream",
     "text": [
      "[[2964  372]\n",
      " [ 381  544]]\n",
      "Accuracy Score : 0.82\n",
      "Classification Report :\n",
      "              precision    recall  f1-score   support\n",
      "\n",
      "           0       0.89      0.89      0.89      3336\n",
      "           1       0.59      0.59      0.59       925\n",
      "\n",
      "    accuracy                           0.82      4261\n",
      "   macro avg       0.74      0.74      0.74      4261\n",
      "weighted avg       0.82      0.82      0.82      4261\n",
      "\n"
     ]
    }
   ],
   "source": [
    "knn = KNeighborsClassifier()\n",
    "knn.fit(X_train,y_train)\n",
    "knn_predict = knn.predict(X_test)\n",
    "\n",
    "# Print confusion matrix and accuracy score\n",
    "knn_conf_matrix = confusion_matrix(y_test, knn_predict)\n",
    "knn_acc_score = accuracy_score(y_test, knn_predict)\n",
    "knn_class_report = classification_report(y_test, knn_predict) \n",
    "print(knn_conf_matrix)\n",
    "print('Accuracy Score :', '%.2f' %knn_acc_score)\n",
    "print('Classification Report :')\n",
    "print(knn_class_report)"
   ]
  },
  {
   "cell_type": "code",
   "execution_count": 26,
   "metadata": {},
   "outputs": [
    {
     "name": "stdout",
     "output_type": "stream",
     "text": [
      "[[3318   18]\n",
      " [ 898   27]]\n",
      "Accuracy Score : 0.79\n",
      "Classification Report :\n",
      "              precision    recall  f1-score   support\n",
      "\n",
      "           0       0.79      0.99      0.88      3336\n",
      "           1       0.60      0.03      0.06       925\n",
      "\n",
      "    accuracy                           0.79      4261\n",
      "   macro avg       0.69      0.51      0.47      4261\n",
      "weighted avg       0.75      0.79      0.70      4261\n",
      "\n"
     ]
    }
   ],
   "source": [
    "svc = SVC()\n",
    "svc.fit(X_train,y_train)\n",
    "svc_predict = svc.predict(X_test)\n",
    "\n",
    "# Print confusion matrix and accuracy score\n",
    "svc_conf_matrix = confusion_matrix(y_test, svc_predict)\n",
    "svc_acc_score = accuracy_score(y_test, svc_predict)\n",
    "svc_class_report = classification_report(y_test, svc_predict)\n",
    "print(svc_conf_matrix)\n",
    "print('Accuracy Score :','%.2f' %svc_acc_score)\n",
    "print('Classification Report :')\n",
    "print(svc_class_report)"
   ]
  },
  {
   "cell_type": "code",
   "execution_count": 28,
   "metadata": {},
   "outputs": [
    {
     "name": "stdout",
     "output_type": "stream",
     "text": [
      "The accuracy score achieved using Logistic Regression is: 0.7786904482515842 %\n",
      "The accuracy score achieved using DecisionTreeClassifier is: 0.7573339591645154 %\n",
      "The accuracy score achieved using SVC is: 0.8232809199718376 %\n",
      "The accuracy score achieved using KNeighborsClassifier is: 0.7850269889697254 %\n"
     ]
    }
   ],
   "source": [
    "scores = [lr_acc_score,dt_acc_score,knn_acc_score,svc_acc_score]\n",
    "algorithms = [\"Logistic Regression\",\"DecisionTreeClassifier\",\"SVC\",\"KNeighborsClassifier\"]    \n",
    "\n",
    "for i in range(len(algorithms)):\n",
    "    print(\"The accuracy score achieved using \"+algorithms[i]+\" is: \"+str(scores[i])+\" %\")"
   ]
  },
  {
   "cell_type": "code",
   "execution_count": 30,
   "metadata": {},
   "outputs": [
    {
     "data": {
      "text/plain": [
       "<matplotlib.axes._subplots.AxesSubplot at 0x2abd8c8fd88>"
      ]
     },
     "execution_count": 30,
     "metadata": {},
     "output_type": "execute_result"
    },
    {
     "data": {
      "image/png": "[encoded data removed]",
      "text/plain": [
       "<Figure size 1080x576 with 1 Axes>"
      ]
     },
     "metadata": {},
     "output_type": "display_data"
    }
   ],
   "source": [
    "sns.set(rc={'figure.figsize':(15,8)})\n",
    "plt.xlabel(\"Algorithms\")\n",
    "plt.ylabel(\"Accuracy score\")\n",
    "\n",
    "sns.barplot(algorithms,scores)"
   ]
  },
  {
   "cell_type": "code",
   "execution_count": null,
   "metadata": {},
   "outputs": [],
   "source": []
  }
 ],
 "metadata": {
  "kernelspec": {
   "display_name": "Python 3",
   "language": "python",
   "name": "python3"
  },
  "language_info": {
   "codemirror_mode": {
    "name": "ipython",
    "version": 3
   },
   "file_extension": ".py",
   "mimetype": "text/x-python",
   "name": "python",
   "nbconvert_exporter": "python",
   "pygments_lexer": "ipython3",
   "version": "3.7.4"
  }
 },
 "nbformat": 4,
 "nbformat_minor": 2
}
